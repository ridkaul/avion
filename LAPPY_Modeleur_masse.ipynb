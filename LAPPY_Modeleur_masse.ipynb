{
 "cells": [
  {
   "cell_type": "markdown",
   "metadata": {
    "collapsed": true
   },
   "source": [
    "## LAPPY_Modeleur_masse.ipynb*\n",
    "\n",
    "\n",
    "This modeller provides functions to:\n",
    "* assign input data, chosen by \"weight\" expert: **affecte_entrees_masse(avion)**\n",
    "\n",
    "        ***You have to check that all the values come from the provided documentation***.  \n",
    "\n",
    "* calculate plane's weight and its center of gravity **position:calcul_centres_gravite(avion)**\n",
    "\n",
    "         ***You have to define functions basing your work on the provided documentation***.   \n",
    "\n",
    "* **calcul_masses(avion)** runs all the previous calculations\n",
    "\n",
    "* eventually add here a function to analyze engine's choice after plane's weight first assessment."
   ]
  },
  {
   "cell_type": "code",
   "execution_count": null,
   "metadata": {},
   "outputs": [],
   "source": [
    "def affecte_entrees_masse(avion):\n",
    "    avion.mpax = 77       #Masse d'un passager [kg]\n",
    "    avion.mpaxbag = 14    #Masse bagage par passager [kg]\n",
    "    avion.mpil = 100      #Masse d'un pilote [kg]\n",
    "    avion.npil = 2        #Nombre de pilote\n",
    "    avion.mhot = 90       #Masse hotesse [kg]\n",
    "    avion.nhot = 1        #Nombre d'hotesse\n",
    "    avion.mcom = 100      #Masse commissariat [kg]\n",
    "    avion.mres = 300      #Masse de réserve [kg]\n",
    "    avion.nblind = 1      #Présence de blindage : 1 = True, 0 = False\n",
    "    avion.mblind = 100    #Masse de blindage [kg]\n",
    "    avion.msv = 40        #Masse surfacique de la voilure [kg]\n",
    "    avion.msemp = 20      #Masse surfacique de l'empennage [kg]\n",
    "    avion.msd = 16        #Masse surfacique de la dérive [kg]\n",
    "    return"
   ]
  },
  {
   "cell_type": "code",
   "execution_count": null,
   "metadata": {},
   "outputs": [],
   "source": [
    "def calcul_centres_gravite(avion):\n",
    "    \n",
    "    avion.xcg = (avion.m_fu * 0.45 *avion.lfu + 0.4*(avion.m_v *avion.xcmarv + avion.xcmaremp*avion.m_emp + avion.xcmard * avion.m_d)\n",
    "                 + avion.lpeq*avion.m_flg + avion.m_mlg*0.45*avion.xcmarv + avion.xrmo*(avion.tmmo + avion.tmnac)\n",
    "                 + avion.mpil*avion.npil*3/4*avion.lpteavt + (avion.lpteavt +lpeq/2)*(avion.mhot*avion.nhot + avion.mcom)\n",
    "                 +(avion.lpteavt + avion.lpeq + avion.lwcavt + avion.lcab/2)*(avion.npax_obj*avion.mpax)\n",
    "                 + (avion.lpteavt + avion.lpeq + avion.lwcavt + avion.lcab + avion.lwcarr+lbag/2)*(avion.npax_obj * avion.mpaxbag+avion.nblind*avion.mblind) \n",
    "                 + ...\n",
    "                )/avion.masse # METTRE TOUT SUR UNE SEULE LIGNE\n",
    "                 \n",
    "    \n",
    "    return\n"
   ]
  },
  {
   "cell_type": "code",
   "execution_count": null,
   "metadata": {},
   "outputs": [],
   "source": [
    "def calcul_masses(avion):\n",
    "    avion.tmmo = avion.nbmo * avion.mmo * 1.13 #post b1 ENGINE WEIGHT A DETERMINER\n",
    "    avion.tmnac = 0.3 * avion.tmmo + 20    #post a6    \n",
    "    \n",
    "    avion.m_flg = 3*10**(-3)*avion.mcal + 20\n",
    "    avion.m_mlg = 20*10**(-3)*avion.mcal + 150\n",
    "    \n",
    "    avion.m_fu = 300 * avion.diafu/2.5 * lfu\n",
    "    \n",
    "    avion.m_v = avion.srv*avion.msv\n",
    "    avion.m_emp = avion.ssemp*avion.msemp\n",
    "    avion.m_d = avion.ssd*avion.msd           #SURFACES SSEMP ET SSD A CALCULER\n",
    "    \n",
    "    avion.m_zfw =  avion.npax_obj * ( avion.mpax + avion.mpaxbag ) + avion.mpil*avion.npil + avion.mhot*avion.nhot + avion.mcom + avion.tmmo + avion.tmnac + avion.m_flg +avion.m_mlg +avion.m_fu +avion.m_v + avion.m_emp + avion.m_d +avion.nblind*avion.mblind \n",
    "    \n",
    "    avion.masse = avion.m_zfw + avion.qi + avion.m_mres\n",
    "\n",
    "    calcul_centres_gravite(avion)\n",
    "    \n",
    "    # A FINIR\n",
    "    return"
   ]
  },
  {
   "cell_type": "code",
   "execution_count": null,
   "metadata": {},
   "outputs": [],
   "source": []
  }
 ],
 "metadata": {
  "kernelspec": {
   "display_name": "Python 3",
   "language": "python",
   "name": "python3"
  },
  "language_info": {
   "codemirror_mode": {
    "name": "ipython",
    "version": 3
   },
   "file_extension": ".py",
   "mimetype": "text/x-python",
   "name": "python",
   "nbconvert_exporter": "python",
   "pygments_lexer": "ipython3",
   "version": "3.8.6"
  }
 },
 "nbformat": 4,
 "nbformat_minor": 2
}
