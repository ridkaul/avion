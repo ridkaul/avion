{
 "cells": [
  {
   "cell_type": "markdown",
   "metadata": {
    "collapsed": true
   },
   "source": [
    "## LAPPY_Modeleur_masse.ipynb*\n",
    "\n",
    "\n",
    "This modeller provides functions to:\n",
    "* assign input data, chosen by \"weight\" expert: **affecte_entrees_masse(avion)**\n",
    "\n",
    "        ***You have to check that all the values come from the provided documentation***.  \n",
    "\n",
    "* calculate plane's weight and its center of gravity **position:calcul_centres_gravite(avion)**\n",
    "\n",
    "         ***You have to define functions basing your work on the provided documentation***.   \n",
    "\n",
    "* **calcul_masses(avion)** runs all the previous calculations\n",
    "\n",
    "* eventually add here a function to analyze engine's choice after plane's weight first assessment."
   ]
  },
  {
   "cell_type": "code",
   "execution_count": null,
   "metadata": {},
   "outputs": [],
   "source": [
    "def affecte_entrees_masse(avion):\n",
    "    avion.mpax = 77       #Masse d'un passager [kg]\n",
    "    avion.mpaxbag = 14    #Masse bagage par passager [kg]\n",
    "    avion.mpil = 100      #Masse d'un pilote [kg]\n",
    "    avion.npil = 2        #Nombre de pilote\n",
    "    avion.mhot = 90       #Masse hotesse [kg]\n",
    "    avion.nhot = 1        #Nombre d'hotesse\n",
    "    avion.mcom = 100      #Masse commissariat [kg]\n",
    "    avion.mres = 300      #Masse de réserve [kg]\n",
    "    avion.nblind = 1      #Présence de blindage : 1 = True, 0 = False\n",
    "    avion.mblind = 100    #Masse de blindage [kg]\n",
    "    avion.msv = 40        #Masse surfacique de la voilure [kg]\n",
    "    avion.msemp = 20      #Masse surfacique de l'empennage [kg]\n",
    "    avion.msd = 16        #Masse surfacique de la dérive [kg]\n",
    "    return"
   ]
  },
  {
   "cell_type": "code",
   "execution_count": null,
   "metadata": {},
   "outputs": [],
   "source": [
    "def calcul_centres_gravite(avion):\n",
    "    avion.xcg = (avion.m_fu * 0.45 *avion.lfu #fuselage\n",
    "                 + avion.m_v*(avion.xcmarv + 0.4*avion.cmarv) #voilure\n",
    "                 + avion.m_d*(avion.xcmard + 0.4*avion.cmard) #dérive\n",
    "                 + avion.m_emp*(avion.xcmaremp + 0.4*avion.cmaremp) #empennage\n",
    "                 + avion.lpteavt*avion.m_flg + avion.m_mlg*(0.45*avion.cmarv + avion.xcmarv) #trains\n",
    "                 + avion.xrmo*(avion.mt_mmo + avion.mt_mnac)\n",
    "                 + avion.mt_pil*3/4*avion.lpteavt  #pilotes\n",
    "                 + (avion.lpteavt + avion.lpeq/2)*(avion.mt_hot + avion.mcom) #hotesses et masse commerciale\n",
    "                 + (avion.lpteavt + avion.lpeq + avion.lwcavt + avion.lcab/2)*(avion.npax_obj*avion.mpax)\n",
    "                 + (avion.lpteavt + avion.lpeq + avion.lwcavt + avion.lcab + avion.lwcarr+avion.lbag/2)*(avion.npax_obj * avion.mpaxbag+avion.nblind*avion.mblind) #soute à bagages à l'arrière de l'avion \n",
    "                 + (avion.qi + avion.mres)*(avion.xcmarv + 0.15*avion.cmarv) #fuel\n",
    "                )/avion.mtow\n",
    "    return\n"
   ]
  },
  {
   "cell_type": "code",
   "execution_count": null,
   "metadata": {},
   "outputs": [],
   "source": [
    "def calcul_masses(avion):\n",
    "    avion.mt_mmo = avion.nbmo * avion.mmo * 1.13 #Masse totale moteur\n",
    "    avion.mt_mnac = 0.3 * avion.mt_mmo + 20    #Masse totale nacelles    \n",
    "    \n",
    "    avion.m_fu = 300 * avion.diafu/2.5 * avion.lfu\n",
    "    avion.mt_blind = avion.nblind*avion.mblind\n",
    "    avion.mt_pil = avion.mpil*avion.npil\n",
    "    avion.mt_hot = avion.mhot*avion.nhot\n",
    "    avion.mt_pax = avion.npax_obj * ( avion.mpax + avion.mpaxbag )\n",
    "    \n",
    "    avion.m_v = avion.srv*avion.msv\n",
    "    avion.m_emp = avion.sremp*avion.msemp\n",
    "    avion.m_d = avion.srd*avion.msd\n",
    "    \n",
    "    avion.mt_sanstrains = avion.mt_mmo+avion.mt_mnac+avion.m_fu+avion.mt_blind+avion.mt_pil+avion.mt_hot+avion.mt_pax+avion.m_v+avion.m_emp+avion.m_d+avion.mcom+avion.qi+avion.mres\n",
    "    avion.mtow = (avion.mt_sanstrains + 150 + 20)/(1 - 20e-3 - 3e-3) \n",
    "    \n",
    "    avion.m_flg = 3*10**(-3)*avion.mtow + 20\n",
    "    avion.m_mlg = 20*10**(-3)*avion.mtow + 150\n",
    "    \n",
    "    avion.m_zfw = avion.mtow - avion.qi - avion.mres\n",
    "\n",
    "    calcul_centres_gravite(avion)\n",
    "    marge_stat = (avion.xfoyeravion - avion.xcg) / avion.cmarv\n",
    "    \n",
    "    return marge_stat"
   ]
  },
  {
   "cell_type": "code",
   "execution_count": null,
   "metadata": {},
   "outputs": [],
   "source": []
  }
 ],
 "metadata": {
  "kernelspec": {
   "display_name": "Python 3",
   "language": "python",
   "name": "python3"
  },
  "language_info": {
   "codemirror_mode": {
    "name": "ipython",
    "version": 3
   },
   "file_extension": ".py",
   "mimetype": "text/x-python",
   "name": "python",
   "nbconvert_exporter": "python",
   "pygments_lexer": "ipython3",
   "version": "3.8.6"
  }
 },
 "nbformat": 4,
 "nbformat_minor": 2
}
