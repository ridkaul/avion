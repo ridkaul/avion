{
 "cells": [
  {
   "cell_type": "markdown",
   "metadata": {},
   "source": [
    "## LAPPY_Export_xls.ipynb\n",
    "\n",
    "This script will export the values to the file ***Feuille_parametres.xls***."
   ]
  },
  {
   "cell_type": "code",
   "execution_count": null,
   "metadata": {},
   "outputs": [],
   "source": [
    "import xlrd\n",
    "from xlutils.save import save\n",
    "filename = \"Feuille_parametres.xls\"\n",
    "book = xlrd.open_workbook(filename, formatting_info=1)\n",
    "\n",
    "sh1 = book.sheet_by_index(0)\n",
    "sh3 = book.sheet_by_index(2)\n"
   ]
  },
  {
   "cell_type": "code",
   "execution_count": null,
   "metadata": {},
   "outputs": [],
   "source": [
    "def export_avion_xls(avion):\n",
    "    for row in range(31):\n",
    "        attr = sh3.cell_value(row, 1).strip()\n",
    "        value = getattr(avion, attr)\n",
    "        if sh1.ncols == 1:\n",
    "            sh1._cell_types[row].append(xlrd.XL_CELL_NUMBER)\n",
    "            sh1._cell_values[row].append(value)\n",
    "        else :\n",
    "            sh1._cell_types[row][1] = xlrd.XL_CELL_NUMBER\n",
    "            sh1._cell_values[row][1] = value\n",
    "    save(book, filename)"
   ]
  },
  {
   "cell_type": "code",
   "execution_count": null,
   "metadata": {},
   "outputs": [],
   "source": []
  }
 ],
 "metadata": {
  "kernelspec": {
   "display_name": "Python 3",
   "language": "python",
   "name": "python3"
  },
  "language_info": {
   "codemirror_mode": {
    "name": "ipython",
    "version": 3
   },
   "file_extension": ".py",
   "mimetype": "text/x-python",
   "name": "python",
   "nbconvert_exporter": "python",
   "pygments_lexer": "ipython3",
   "version": "3.8.6"
  }
 },
 "nbformat": 4,
 "nbformat_minor": 4
}
