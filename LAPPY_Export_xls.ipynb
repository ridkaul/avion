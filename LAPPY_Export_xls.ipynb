{
 "cells": [
  {
   "cell_type": "markdown",
   "metadata": {},
   "source": [
    "## LAPPY_Export_xls.ipynb\n",
    "\n",
    "This script will export the values to the file ***Feuille_parametres.xls***."
   ]
  },
  {
   "cell_type": "code",
   "execution_count": null,
   "metadata": {},
   "outputs": [],
   "source": [
    "import xlrd\n",
    "import csv\n",
    "from xlutils.save import save\n",
    "filename = \"Feuille_parametres.xls\""
   ]
  },
  {
   "cell_type": "code",
   "execution_count": null,
   "metadata": {},
   "outputs": [],
   "source": [
    "def export_params_xls(avion):\n",
    "    # Export des paramètres utiles à catia\n",
    "    book = xlrd.open_workbook(filename, formatting_info=1)\n",
    "    sh1 = book.sheet_by_index(0)\n",
    "    sh3 = book.sheet_by_index(2)\n",
    "    sh4 = book.sheet_by_index(3)\n",
    "    \n",
    "    row = 0\n",
    "    while sh1.cell_value(row, 0).startswith(\"Lapex_\"):\n",
    "        attr = sh3.cell_value(row, 1).strip()\n",
    "        value = getattr(avion, attr)\n",
    "        if sh1.ncols == 1: # On vérifie que la colone existe déja\n",
    "            sh1._cell_types[row].append(xlrd.XL_CELL_NUMBER)\n",
    "            sh1._cell_values[row].append(value)\n",
    "        else :\n",
    "            sh1._cell_types[row][1] = xlrd.XL_CELL_NUMBER\n",
    "            sh1._cell_values[row][1] = value\n",
    "        row += 1\n",
    "    \n",
    "    # Export de tout les paramètres pour une lecture facile\n",
    "    for row in range(sh4.nrows):\n",
    "        attr = sh4.cell_value(row, 0).strip()\n",
    "        value = getattr(avion, attr)\n",
    "        if sh4.ncols == 1: # On vérifie que la colone existe déja\n",
    "            sh4._cell_types[row].append(xlrd.XL_CELL_NUMBER)\n",
    "            sh4._cell_values[row].append(value)\n",
    "        else :\n",
    "            sh4._cell_types[row][1] = xlrd.XL_CELL_NUMBER\n",
    "            sh4._cell_values[row][1] = value\n",
    "    save(book, filename)"
   ]
  },
  {
   "cell_type": "code",
   "execution_count": null,
   "metadata": {},
   "outputs": [],
   "source": [
    "def export_params_csv(avion):\n",
    "    # Export des paramètres utiles a Catia en CSV pour Onshape\n",
    "    book = xlrd.open_workbook(filename)\n",
    "    sh1 = book.sheet_by_index(0)\n",
    "    \n",
    "    csvfilename = filename.split('.')[0] + '.csv'\n",
    "    with open(csvfilename, 'w', newline='') as file:\n",
    "        writer = csv.writer(file)\n",
    "        writer.writerows(sh1._cell_values)"
   ]
  },
  {
   "cell_type": "code",
   "execution_count": null,
   "metadata": {},
   "outputs": [],
   "source": []
  }
 ],
 "metadata": {
  "kernelspec": {
   "display_name": "Python 3",
   "language": "python",
   "name": "python3"
  },
  "language_info": {
   "codemirror_mode": {
    "name": "ipython",
    "version": 3
   },
   "file_extension": ".py",
   "mimetype": "text/x-python",
   "name": "python",
   "nbconvert_exporter": "python",
   "pygments_lexer": "ipython3",
   "version": "3.8.6"
  }
 },
 "nbformat": 4,
 "nbformat_minor": 4
}
