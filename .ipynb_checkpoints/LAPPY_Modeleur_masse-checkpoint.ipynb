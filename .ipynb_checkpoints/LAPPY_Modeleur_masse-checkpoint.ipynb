{
 "cells": [
  {
   "cell_type": "markdown",
   "metadata": {
    "collapsed": true
   },
   "source": [
    "## Modeleur Masse\n",
    "\n",
    "Ce modeleur fournit des fonctions pour :\n",
    "* affecter des données d'entrée,choisies par l'expert en \"masse\"  : \n",
    "\n",
    "    **affecte_entrees_masse(avion)**\n",
    "    \n",
    "            ***Vous avez à vérifier que les valeurs sont bien extraites de la documentation fournie***.  \n",
    "            \n",
    "* calculer la masse de l'avion et la position de son centre de garvité  :\n",
    "\n",
    "            ***A vous de définir des fonctions à partir de la documentation fournie***.   \n",
    "\n",
    "* **calcul_masses(avion)** la succession des calculs précédents\n",
    "\n",
    "* éventuellement ajouter ici une fonction pour analyser le choix du motueur suite à une première évaluation de la masse de l'avion.\n"
   ]
  },
  {
   "cell_type": "code",
   "execution_count": 1,
   "metadata": {
    "collapsed": true
   },
   "outputs": [],
   "source": [
    "def affecte_entrees_masse(avion):\n",
    "    avion.mpax = 77       #Masse d'un passager [kg]\n",
    "    avion.mpil = 100      #Masse d'un pilote [kg]\n",
    "    avion.mpaxbag = 14    #Masse bagage par passager [kg]\n",
    "    avion.mhot = 90       #Masse hotesse [kg]\n",
    "    avion.mcom = 100      #Masse commissariat [kg]\n",
    "    avion.npil = 2        #Nombre de pilote\n",
    "    avion.nhot = 1        #Nombre d'hotesse\n",
    "    avion.mres = 300      #Masse de réserve [kg]\n",
    "    avion.nblind = 1      #Présence de blindage : 1 = True, 0 = False\n",
    "    avion.mblind = 100    #Masse de blindage [kg]\n",
    "    avion.msv = 40        #Masse surfacique de la voilure [kg]\n",
    "    avion.msemp = 20      #Masse surfacique de l'empennage [kg]\n",
    "    avion.msd = 16        #Masse surfacique de la dérive [kg]\n",
    "    return"
   ]
  },
  {
   "cell_type": "code",
   "execution_count": 2,
   "metadata": {
    "collapsed": true
   },
   "outputs": [],
   "source": [
    "def calcul_centres_gravite(avion):\n",
    "    # A compléter\n",
    "    return\n"
   ]
  },
  {
   "cell_type": "code",
   "execution_count": 3,
   "metadata": {
    "collapsed": true
   },
   "outputs": [],
   "source": [
    "def calcul_masses(avion):\n",
    "    # A compléter\n",
    "    calcul_centres_gravite(avion)\n",
    "    return"
   ]
  }
 ],
 "metadata": {
  "kernelspec": {
   "display_name": "Python 3",
   "language": "python",
   "name": "python3"
  },
  "language_info": {
   "codemirror_mode": {
    "name": "ipython",
    "version": 3
   },
   "file_extension": ".py",
   "mimetype": "text/x-python",
   "name": "python",
   "nbconvert_exporter": "python",
   "pygments_lexer": "ipython3",
   "version": "3.6.3"
  }
 },
 "nbformat": 4,
 "nbformat_minor": 2
}
