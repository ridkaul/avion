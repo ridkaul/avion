{
 "cells": [
  {
   "cell_type": "markdown",
   "metadata": {},
   "source": [
    "# PROJET AVION"
   ]
  },
  {
   "cell_type": "markdown",
   "metadata": {},
   "source": [
    "## 1. Présentation Lappy / prédimensionnement d'avion\n",
    "\n",
    "Lappy est un outil de prédimensionnement utilisé pour déterminer les caractérisitiques principales d'un avion d'affaire répondant à un cahier des charges donné. Ces caractéristiques sont déterminées en étudiants les points suivants :\n",
    "- Aménagement, permettant d'accueillir passagers, bagages et équipages dans de bonnes conditions de confort,\n",
    "- Première estimation de la masse de l'avion pour évaluer les surfaces de voilure nécessaires,\n",
    "- Choix d'un moteur ayant la poussée nécessaire pour le décollage,\n",
    "- Estimation du volume de carburant à embarquer pour assurer la mission,\n",
    "- Positionnement de la voilure par rapport au centre de gravité pour assurer la stabilité et la manœuvrabilité de l'avion en vol \n",
    "\n",
    "Ce fichier doit être compléter en s'inspirant de l'exercice sur le ressort."
   ]
  },
  {
   "cell_type": "markdown",
   "metadata": {},
   "source": [
    "## 2. Initialisation\n",
    "### a. Bibliothèque, variables globales et fonctions utiles\n",
    "Nous commençons à lancer un sous-programme qui permet :\n",
    "- de charger des bibliothèques \n",
    "- de définir des variables globales \n",
    "- de définir des fonctions :\n",
    "    - affichage d'un tableau de valeurs\n",
    "    - tracer graphique de l'avion\n"
   ]
  },
  {
   "cell_type": "code",
   "execution_count": null,
   "metadata": {
    "collapsed": true
   },
   "outputs": [],
   "source": [
    "%run LAPPY_Valeurs_et_fonctions_utiles.ipynb"
   ]
  },
  {
   "cell_type": "code",
   "execution_count": null,
   "metadata": {
    "collapsed": true
   },
   "outputs": [],
   "source": [
    "class Avion:\n",
    "    \"Définition d'un avion d'affaire\"\n",
    "class Trace:\n",
    "    \"définition d'un objet de type Trace\"\n",
    "    "
   ]
  },
  {
   "cell_type": "markdown",
   "metadata": {},
   "source": [
    "### b. Initialisation, cahier des charges et valeurs initiales \n",
    "\n",
    "        *** valeur à modifier en fonction de votre cahier des charges ***"
   ]
  },
  {
   "cell_type": "code",
   "execution_count": null,
   "metadata": {
    "collapsed": true,
    "scrolled": false
   },
   "outputs": [],
   "source": [
    "def initialisation(avion):\n",
    "    #Cahier des charges\n",
    "    avion.mach_obj = 0.8        #Mach de croisière\n",
    "    avion.zm_obj = 41000*0.3048 #Altitude de croisière [m]\n",
    "    avion.npax_obj = 9          #Nombre de passager(s)\n",
    "    avion.bfl_obj = 1200        #Longueur de piste au décollage objective [m]\n",
    "    avion.dist_obj = 4800000    #Rayon d'action objectif [m]\n",
    "    \n",
    "    #Valeurs à initialiser\n",
    "        # A compléter en fonction de votre processus de dimensionnement\n",
    "    return\n",
    "    \n",
    "    "
   ]
  },
  {
   "cell_type": "markdown",
   "metadata": {},
   "source": [
    "### c. Les différents modeleurs\n",
    "\n",
    "Le programme est séparé en différent modeleur permettant de **affecter des valeurs d'entrée, calculer, analyser et corriger ** les caractéristiques de l'avion liées à :\n",
    "- son aménagement, \n",
    "- sa géométrie, \n",
    "- sa propulsion, \n",
    "- son aérodynamisme,\n",
    "- ses performances. "
   ]
  },
  {
   "cell_type": "code",
   "execution_count": null,
   "metadata": {
    "collapsed": true
   },
   "outputs": [],
   "source": [
    "%run LAPPY_Modeleur_amenagement.ipynb\n",
    "%run LAPPY_Modeleur_geometrie.ipynb\n",
    "%run LAPPY_Modeleur_propulsion.ipynb\n",
    "%run LAPPY_Modeleur_aerodynamique.ipynb\n",
    "%run LAPPY_Modeleur_masse.ipynb\n",
    "%run LAPPY_Modeleur_performances.ipynb"
   ]
  },
  {
   "cell_type": "markdown",
   "metadata": {},
   "source": [
    "## 3. Calcul d'une définition complète\n",
    "\n",
    "### a. Initialisation\n",
    "\n",
    "Création d'une instance avion qu'on initialise avec les données du cahier des charges et des premières affectations de variables.\n",
    "\n",
    "Création d'un objet \"trace\" permettant d'étudier l'évolution de certaines caractéristiques :\n",
    "\n",
    "| Variable    | Libellé                                  | Unité     |\n",
    "| ----------- | ---------------------------------------- | --------- |\n",
    "|  qi         | Quantité carburant                       | kg        |\n",
    "| srd         | Surface de référence dérive              | m2        |\n",
    "| sremp       | Surface de référence empennage           | m2        |\n",
    "| srv         | Surface référence voilure                | m2        |\n",
    "\n",
    "La fonction **inc_trace** doit être appelée à chaque fois qu'on fait une correction sur l'avion et qu'on souhaite enregistrer cette correction dans la trace."
   ]
  },
  {
   "cell_type": "code",
   "execution_count": null,
   "metadata": {},
   "outputs": [],
   "source": [
    "avion=Avion()   # création d'une instance \"avion\" de la classe \"Avion\"\n",
    "initialisation(avion)  # initialisation avec cahier des charges et valeurs initiales\n",
    "\n",
    "trace=Trace()   # création d'une instance \"trace\" de la classe \"Trace\"\n",
    "liste_att_trace=(\"qi\",\"srd\",\"sremp\",\"srv\",\"xrv\")  # liste des variables à tracer\n",
    "\n",
    "init_trace(trace)\n"
   ]
  },
  {
   "cell_type": "markdown",
   "metadata": {},
   "source": [
    "### b. Aménagement\n",
    "En fonction de valeurs recommandées, l'étude de l'aménagement conduit à définir quelques attributs de l'avion dont sa longueur de cabine."
   ]
  },
  {
   "cell_type": "code",
   "execution_count": null,
   "metadata": {},
   "outputs": [],
   "source": [
    "# Aménagement\n",
    "affecte_entrees_amenagement(avion)\n",
    "calcul_amenagement(avion)\n",
    "\n",
    "print(\"Quelques caractéristiques de l'avion après son aménagement\")\n",
    "HTML(code_tableau_html_H_att([avion], (\"npax_obj\", \"nbsalon\", \"lcab\")))"
   ]
  },
  {
   "cell_type": "markdown",
   "metadata": {},
   "source": [
    "### c. Géométrie\n",
    "En fonction de valeurs recommandées, l'étude de la géométrie conduit à définir la voilure de l'avion.\n"
   ]
  },
  {
   "cell_type": "code",
   "execution_count": null,
   "metadata": {},
   "outputs": [],
   "source": [
    "# Géométrie\n",
    "affecte_entrees_geometrie(avion)\n",
    "calcul_geometrie(avion)"
   ]
  },
  {
   "cell_type": "markdown",
   "metadata": {},
   "source": [
    "### d. Propulsion\n",
    "En fonction du choix du moteur, complète la définition de l'avion et permet une première représentation graphique."
   ]
  },
  {
   "cell_type": "code",
   "execution_count": null,
   "metadata": {
    "collapsed": true
   },
   "outputs": [],
   "source": [
    "affecte_entrees_propulsion(avion)\n",
    "calcul_propulsion(avion)\n",
    "vue_dessus(avion)\n",
    "vue_profil(avion)"
   ]
  },
  {
   "cell_type": "markdown",
   "metadata": {},
   "source": [
    "### d. Aérodynamisme\n"
   ]
  },
  {
   "cell_type": "code",
   "execution_count": null,
   "metadata": {},
   "outputs": [],
   "source": [
    "avion.mis_cz=0.34 # hypothèse car sera calculé grace au modeleur masse\n",
    "affecte_entrees_aerodynamique(avion)\n",
    "calcul_aerodynamique(avion)\n",
    "analyse_finesse(avion)\n",
    "calcul_foyer_aero(avion)"
   ]
  },
  {
   "cell_type": "markdown",
   "metadata": {},
   "source": [
    "### e. Masse"
   ]
  },
  {
   "cell_type": "code",
   "execution_count": null,
   "metadata": {},
   "outputs": [],
   "source": [
    "affecte_entrees_masse(avion)\n",
    "calcul_masses(avion)"
   ]
  },
  {
   "cell_type": "markdown",
   "metadata": {},
   "source": [
    "### f. Performance\n"
   ]
  },
  {
   "cell_type": "code",
   "execution_count": null,
   "metadata": {},
   "outputs": [],
   "source": [
    "affecte_entrees_performances(avion)\n",
    "print(analyse_performances_gv(avion))\n",
    "print(analyse_performances_bv(avion))"
   ]
  },
  {
   "cell_type": "markdown",
   "metadata": {
    "collapsed": true
   },
   "source": [
    "## 4. Correction de la première définition\n",
    "\n",
    "**A vous de définir des fonctions d'analyse et de correction, pour réaliser une première étape de correction **\n",
    "\n",
    "N'oubliez pas d'appeler dans vos fonctions de correction inc_trace(avion,trace), afin que les évolutions des valeurs des attributs de l'avion soit enregistrées."
   ]
  },
  {
   "cell_type": "code",
   "execution_count": null,
   "metadata": {
    "collapsed": true
   },
   "outputs": [],
   "source": []
  },
  {
   "cell_type": "markdown",
   "metadata": {},
   "source": [
    "#### Caractéristiques de l'avion après les premieres corrections et évolution des paramètres\n",
    "\n",
    "On peut ici afficher la définition actuelle des principaux paramètres de définition de l'avion et l'évolution de ces parametres suite aux corrections. "
   ]
  },
  {
   "cell_type": "code",
   "execution_count": null,
   "metadata": {},
   "outputs": [],
   "source": [
    "HTML(code_tableau_html_H_att([avion], (\"srv\", \"srd\", \"sremp\", \"xrv\",\"qi\",\"mtow\")))\n",
    "courbe_iteration (trace, trace.srv, \"Surf. ref voilure\", \"r\")\n",
    "courbe_iteration (trace, trace.qi, \"quantité carburant\", \"b\")\n",
    "courbe_iteration (trace, trace.xrv, \"position voilure\", \"g\")\n",
    "courbe_iteration (trace, trace.srd, \"surface dérive\", \"y\")\n",
    "courbe_iteration (trace, trace.sremp, \"surface empenage\", \"k\")"
   ]
  },
  {
   "cell_type": "markdown",
   "metadata": {
    "collapsed": true
   },
   "source": [
    "## 5. Définition du processus de dimensionnement\n",
    "\n",
    "Vous avez à définir un processus sous forme d'organigramme.\n",
    "Vous pouvez utiliser une application en ligne pour créer votre organigramme. Par exemple https://mermaidjs.github.io/mermaid-live-editor/ qui à partir du code :\n"
   ]
  },
  {
   "cell_type": "markdown",
   "metadata": {},
   "source": [
    "```\n",
    "graph TD\n",
    "A[Etape 1] -->B[Etape2]\n",
    "B --> C{test}\n",
    "C -->|OK| D[Etape3]\n",
    "C -->|KO| E[correction]\n",
    "E -->A\n",
    "```"
   ]
  },
  {
   "cell_type": "markdown",
   "metadata": {},
   "source": [
    "Vous réalise le graphe suivant :\n",
    "\n",
    "![organigramme](Images/organigramme.JPG)\n",
    "\n",
    "Vous avez ensuite à coder le processus en définissant des fonctions pour chaque étape suivant le modèle suivant."
   ]
  },
  {
   "cell_type": "code",
   "execution_count": null,
   "metadata": {},
   "outputs": [],
   "source": [
    "def etape1(avion, trace):\n",
    "    # le code à executer\n",
    "    # ....\n",
    "    \n",
    "    #Etape suivante\n",
    "    etape2(avion, trace)\n",
    "\n",
    "    \n",
    "def etape2(avion, trace):\n",
    "    # le code à executer\n",
    "    # ....\n",
    "    \n",
    "    if <test KO>:\n",
    "        # le code de la correction à executer\n",
    "        # ....\n",
    "        #Etape suivante\n",
    "        etape1(avion, trace)\n",
    "    else:\n",
    "        #Etape suivante\n",
    "        etape3(avion, trace)"
   ]
  },
  {
   "cell_type": "markdown",
   "metadata": {},
   "source": [
    "# 6. Exécution du processus de dimensionnement\n",
    "\n",
    "Il ne vous reste plus qu'à lancer le processus et d'afficher les résultats"
   ]
  },
  {
   "cell_type": "code",
   "execution_count": null,
   "metadata": {},
   "outputs": [],
   "source": [
    "init_trace(trace)\n",
    "etape1(avion, trace)\n",
    "HTML(code_tableau_html_H_att([avion], (\"srv\", \"srd\", \"sremp\", \"xrv\",\"qi\",\"mtow\")))\n",
    "courbe_iteration (trace, trace.srv, \"Surf. ref voilure\", \"r\")\n",
    "courbe_iteration (trace, trace.qi, \"quantité carburant\", \"b\")\n",
    "courbe_iteration (trace, trace.xrv, \"position voilure\", \"g\")\n",
    "courbe_iteration (trace, trace.srd, \"surface dérive\", \"y\")\n",
    "courbe_iteration (trace, trace.sremp, \"surface empenage\", \"k\")"
   ]
  },
  {
   "cell_type": "code",
   "execution_count": null,
   "metadata": {},
   "outputs": [],
   "source": [
    "courbe_iteration (trace, trace.srv, \"Surf. ref voilure\", \"r\")\n",
    "courbe_iteration (trace, trace.qi, \"quantité carburant\", \"b\")\n",
    "courbe_iteration (trace, trace.xrv, \"position voilure\", \"g\")\n",
    "courbe_iteration (trace, trace.srd, \"surface dérive\", \"y\")\n",
    "courbe_iteration (trace, trace.sremp, \"surface empenage\", \"k\")"
   ]
  },
  {
   "cell_type": "code",
   "execution_count": null,
   "metadata": {
    "collapsed": true
   },
   "outputs": [],
   "source": []
  },
  {
   "cell_type": "code",
   "execution_count": null,
   "metadata": {
    "collapsed": true
   },
   "outputs": [],
   "source": []
  },
  {
   "cell_type": "code",
   "execution_count": null,
   "metadata": {
    "collapsed": true
   },
   "outputs": [],
   "source": []
  }
 ],
 "metadata": {
  "kernelspec": {
   "display_name": "Python 3",
   "language": "python",
   "name": "python3"
  },
  "language_info": {
   "codemirror_mode": {
    "name": "ipython",
    "version": 3
   },
   "file_extension": ".py",
   "mimetype": "text/x-python",
   "name": "python",
   "nbconvert_exporter": "python",
   "pygments_lexer": "ipython3",
   "version": "3.6.3"
  }
 },
 "nbformat": 4,
 "nbformat_minor": 1
}
