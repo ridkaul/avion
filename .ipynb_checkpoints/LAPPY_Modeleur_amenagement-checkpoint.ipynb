{
 "cells": [
  {
   "cell_type": "markdown",
   "metadata": {
    "collapsed": true
   },
   "source": [
    "## Modeleur Aménagement"
   ]
  },
  {
   "cell_type": "markdown",
   "metadata": {},
   "source": [
    "Ce modeleur fournit des fonctions pour :\n",
    "* affecter des données d'entrée,choisies par l'expert en aménagement  : **affecte_entrees_amenagement(avion)**\n",
    "\n",
    "        ***Vous avez à compléter cette fonction à partir de la documentation fournie***.\n",
    "    \n",
    "    \n",
    "* calculer certaines caractéristiques du fuselage de l'avion : **calcul_amenagement(avion)**\n",
    "\n",
    "        ***Vous avez à compléter cette fonction à partir de la documentation fournie***.\n",
    "\n",
    "* éventuellement ajouter des fonctions pour analyser la capacité d'accueil de l'avion, afin de vérifier que la cabine et la soute pourront bien accueillir les passagers et leurs bagages.\n",
    "\n"
   ]
  },
  {
   "cell_type": "code",
   "execution_count": 1,
   "metadata": {
    "collapsed": true
   },
   "outputs": [],
   "source": [
    "def affecte_entrees_amenagement(avion):\n",
    "    avion.lsalon = 2.3  #Longueur d'un salon [m]\n",
    "    avion.esalon = 0.6  #Espace entre les salons [m]\n",
    "    # A compléter\n",
    "    return \n",
    "\n",
    "\n",
    "def calcul_amenagement(avion):\n",
    "    #Masse des bagages [kg]\n",
    "    avion.mbag = avion.mbag_pax*avion.npax_obj\n",
    "    # A compléter\n",
    "    return "
   ]
  },
  {
   "cell_type": "code",
   "execution_count": null,
   "metadata": {
    "collapsed": true
   },
   "outputs": [],
   "source": []
  }
 ],
 "metadata": {
  "kernelspec": {
   "display_name": "Python 3",
   "language": "python",
   "name": "python3"
  },
  "language_info": {
   "codemirror_mode": {
    "name": "ipython",
    "version": 3
   },
   "file_extension": ".py",
   "mimetype": "text/x-python",
   "name": "python",
   "nbconvert_exporter": "python",
   "pygments_lexer": "ipython3",
   "version": "3.6.3"
  }
 },
 "nbformat": 4,
 "nbformat_minor": 2
}
