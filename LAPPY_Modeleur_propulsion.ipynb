{
 "cells": [
  {
   "cell_type": "markdown",
   "metadata": {},
   "source": [
    "## Modeleur Propulsion\n",
    "\n",
    "Rien à compléter dans ce fichier.\n",
    "\n",
    "Après avoir défini à travers de listes différentes caractéristiques de moteur, ce modeleur fournit des fonctions pour :\n",
    "* affecter des données d'entrée,choisies par l'expert en motorisation (en fonction de la valeur de avion.nmo) : \n",
    "    * **affecte_entrees_propulsion(avion)**\n",
    "* calculer certaines caractéristiques de l'avion lié au choix de la motorisation : \n",
    "    * **calcul_propulsion(avion)**\n"
   ]
  },
  {
   "cell_type": "code",
   "execution_count": 3,
   "metadata": {},
   "outputs": [
    {
     "data": {
      "text/html": [
       "<table><tr> <td> moteur <td>Poids [kg]</td><td>Poussee Take-Off [N]</td><td>Cs max croisière [kg/daN/hr]</td><td>Poussée Max croisière [N]</td><td>Diamètre du fan [m]</td></tr><td>TFE1<td>363<td>16479<td>0.795<td>3652<td>0.72</tr><td>TFE2<td>431<td>19596<td>0.736<td>4454<td>0.75</tr><td>TFE3<td>431<td>20487<td>0.733<td>4632<td>0.75</tr><td>TFE4<td>413<td>15722<td>0.694<td>3919<td>0.72</tr><td>TFE5<td>413<td>18706<td>0.733<td>4543<td>0.72</tr><td>TFE6<td>449<td>22803<td>0.667<td>5033<td>0.77</tr><td>TFE7<td>513<td>24273<td>0.637<td>6191<td>0.85</tr><td>PW1<td>449<td>22113<td>0.651<td>5077<td>0.77</tr><td>PW2<td>476<td>25609<td>0.658<td>5923<td>0.81</tr><td>PW3<td>615<td>31185<td>0.702<td>6681<td>0.76</tr><td>CFE1<td>608<td>26277<td>0.617<td>6547<td>0.89</tr><td>CFE2<td>562<td>27391<td>0.616<td>6235<td>0.84</tr><td>CFE3<td>594<td>29083<td>0.616<td>7037<td>0.89</tr><td>CFE4<td>758<td>44181<td>0.591<td>9464<td>1.02</tr></table>"
      ],
      "text/plain": [
       "<IPython.core.display.HTML object>"
      ]
     },
     "execution_count": 3,
     "metadata": {},
     "output_type": "execute_result"
    }
   ],
   "source": [
    "%run LAPPY_Valeurs_et_fonctions_utiles.ipynb\n",
    "#Nom du moteur\n",
    "nom_mot=np.array([\"TFE1\", \"TFE2\", \"TFE3\", \"TFE4\", \"TFE5\", \"TFE6\", \"TFE7\", \n",
    "                  \"PW1\", \"PW2\", \"PW3\",\n",
    "                  \"CFE1\", \"CFE2\", \"CFE3\", \"CFE4\"])\n",
    "#Poids [kg]\n",
    "poids = np.array([363, 431, 431,413,413,449,513, 449, 476, 615, 608,562, 594,758])\n",
    "\n",
    "#Poussee Take-Off [N]\n",
    "poussee = np.array([16479, 19596, 20487, 15722, 18706, 22803, 24273, \n",
    "                    22113, 25609, 31185, 26277, 27391, 29083, 44181])\n",
    "\n",
    "#Cs max croisière [kg/daN/hr]\n",
    "csmax = np.array([0.795,0.736,0.733,0.694,0.733,0.667,0.637,0.651,0.658,0.702,0.617,0.616,0.616,0.591])\n",
    "#Poussée Max croisière [N]\n",
    "poussee_max = np.array([3652, 4454, 4632, 3919, 4543, 5033, 6191, 5077,\n",
    "                       5923, 6681, 6547, 6235, 7037, 9464])\n",
    "#Diamètre du fan [m]\n",
    "dia_fan = np.array([0.72, 0.75, 0.75, 0.72, 0.72, 0.77, 0.85, 0.77, 0.81, 0.76, 0.89, 0.84, 0.89, 1.02])\n",
    "\n",
    "\n",
    "HTML(code_table_moteur (nom_mot, poids, poussee, csmax, poussee_max, dia_fan))"
   ]
  },
  {
   "cell_type": "code",
   "execution_count": null,
   "metadata": {
    "collapsed": true
   },
   "outputs": [],
   "source": [
    "def affecte_entrees_propulsion(avion):\n",
    "    avion.nbmo = 2 #Nombre de moteur\n",
    "    avion.aeclatmo = 10 #Angle d'éclatement [deg]\n",
    "    avion.yrmo = 1.5 #Y moteur [m]\n",
    "    return \n",
    "\n"
   ]
  },
  {
   "cell_type": "code",
   "execution_count": null,
   "metadata": {
    "collapsed": true
   },
   "outputs": [],
   "source": [
    "def calcul_propulsion(avion):\n",
    "    #Poussée TO [N]\n",
    "    avion.fn0to = poussee[avion.nmo-1]*avion.nbmo\n",
    "    #Masse moteur [kg]\n",
    "    avion.mmo = poids[avion.nmo-1]*avion.nbmo\n",
    "    #Cs Max croisière [kg/s/N]\n",
    "    avion.csmaxcmo = csmax[avion.nmo-1]\n",
    "    #Poussée max croisière [N]\n",
    "    avion.fnmaxcmo = poussee_max[avion.nmo-1]*avion.nbmo\n",
    "    #Diamètre fan [m]\n",
    "    avion.diafanmo = dia_fan[avion.nmo-1]\n",
    "    #Longueur moteur [m]\n",
    "    avion.lmo = avion.diafanmo*2\n",
    "    #Longueur nacelle [m]\n",
    "    avion.lnac = (0.75*avion.diafanmo+avion.lmo+avion.diafanmo)\n",
    "    #X moteur [m]\n",
    "    avion.xrmo = avion.xfinpre + avion.yrmo * tan(avion.aeclatmo*pi/180)\n",
    "    #Y moteur [m]\n",
    "    avion.yrmo = 1.5\n",
    "    #X nacelle [m]\n",
    "    avion.xrnac = avion.xrmo - 0.75 * avion.diafanmo\n",
    "    #Aire de l'entrée d'air de la nacelle [m^2]\n",
    "    avion.aenac = pi*avion.diafanmo**2/4\n",
    "    return"
   ]
  }
 ],
 "metadata": {
  "kernelspec": {
   "display_name": "Python 3",
   "language": "python",
   "name": "python3"
  },
  "language_info": {
   "codemirror_mode": {
    "name": "ipython",
    "version": 3
   },
   "file_extension": ".py",
   "mimetype": "text/x-python",
   "name": "python",
   "nbconvert_exporter": "python",
   "pygments_lexer": "ipython3",
   "version": "3.6.3"
  }
 },
 "nbformat": 4,
 "nbformat_minor": 2
}
