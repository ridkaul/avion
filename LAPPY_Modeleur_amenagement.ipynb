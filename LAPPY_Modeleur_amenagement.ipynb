{
 "cells": [
  {
   "cell_type": "markdown",
   "metadata": {
    "collapsed": true
   },
   "source": [
    "## LAPPY_Modeleur_amenagement.ipynb"
   ]
  },
  {
   "cell_type": "markdown",
   "metadata": {},
   "source": [
    "This modeller provides functions to:\n",
    "* assign input data, chosen by cabin design expert: **affecte_entrees_amenagement(avion)**\n",
    "\n",
    "    ```\n",
    "    ***You have to complete this function basing your work on the provided documentation***.\n",
    "    ```\n",
    "\n",
    "* calculate some characteristics of plane's fuselage: **calcul_amenagement(avion)**\n",
    "\n",
    "        ***You have to complete this function basing your work on the provided documentation***.\n",
    "\n",
    "* Eventually add some functions to analyse plane's accomodation capacity, to check that cabin and luggage compartment will be large enough for passengers and their luggage. \n",
    "\n"
   ]
  },
  {
   "cell_type": "code",
   "execution_count": 1,
   "metadata": {
    "collapsed": true
   },
   "outputs": [],
   "source": [
    "def affecte_entrees_amenagement(avion):\n",
    "    avion.lsalon = 2.3  #Longueur d'un salon [m]\n",
    "    avion.esalon = 0.6  #Espace entre les salons [m]\n",
    "    # A compléter\n",
    "    return \n",
    "\n",
    "\n",
    "def calcul_amenagement(avion):\n",
    "    #Masse des bagages [kg]\n",
    "    avion.mbag = avion.mbag_pax*avion.npax_obj\n",
    "    # A compléter\n",
    "    return "
   ]
  },
  {
   "cell_type": "code",
   "execution_count": null,
   "metadata": {
    "collapsed": true
   },
   "outputs": [],
   "source": []
  }
 ],
 "metadata": {
  "kernelspec": {
   "display_name": "Python 3",
   "language": "python",
   "name": "python3"
  },
  "language_info": {
   "codemirror_mode": {
    "name": "ipython",
    "version": 3
   },
   "file_extension": ".py",
   "mimetype": "text/x-python",
   "name": "python",
   "nbconvert_exporter": "python",
   "pygments_lexer": "ipython3",
   "version": "3.6.3"
  }
 },
 "nbformat": 4,
 "nbformat_minor": 2
}
