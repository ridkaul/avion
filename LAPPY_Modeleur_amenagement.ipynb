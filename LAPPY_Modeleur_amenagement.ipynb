{
 "cells": [
  {
   "cell_type": "markdown",
   "metadata": {
    "collapsed": true
   },
   "source": [
    "## LAPPY_Modeleur_amenagement.ipynb"
   ]
  },
  {
   "cell_type": "markdown",
   "metadata": {},
   "source": [
    "This modeller provides functions to:\n",
    "* assign input data, chosen by cabin design expert: **affecte_entrees_amenagement(avion)**\n",
    "\n",
    "    ```\n",
    "    ***You have to complete this function basing your work on the provided documentation***.\n",
    "    ```\n",
    "\n",
    "* calculate some characteristics of plane's fuselage: **calcul_amenagement(avion)**\n",
    "\n",
    "        ***You have to complete this function basing your work on the provided documentation***.\n",
    "\n",
    "* Eventually add some functions to analyse plane's accomodation capacity, to check that cabin and luggage compartment will be large enough for passengers and their luggage. \n",
    "\n"
   ]
  },
  {
   "cell_type": "code",
   "execution_count": null,
   "metadata": {},
   "outputs": [],
   "source": [
    "def affecte_entrees_amenagement(avion):\n",
    "    avion.lsalon = 2.3      #Longueur d'un salon [m]\n",
    "    avion.esalon = 0.6      #Espace entre les salons [m]\n",
    "    avion.nbsalon = 3\n",
    "    \n",
    "    avion.diafu = 2.8       #Diametre fuselage\n",
    "    avion.lpteavt = 3.5\n",
    "    avion.lptearr = 0.7 * avion.diafu + 2.75 #Tail area\n",
    "    avion.lpeq = 1.6        #Crew compartment\n",
    "    avion.lwcavt = 0.4      #Front lavatories\n",
    "    avion.lwcarr = 0.8 * 2  #Back lavatories\n",
    "    \n",
    "    avion.mbag_pax = 14     #Luggage mass per passenger\n",
    "    \n",
    "    return \n",
    "\n",
    "\n",
    "def calcul_amenagement(avion):\n",
    "    #Masse des bagages [kg]\n",
    "    avion.mbag = avion.mbag_pax*avion.npax_obj\n",
    "    avion.lcab = avion.lsalon * avion.nbsalon + avion.esalon * (avion.nbsalon - 1) #longueur cabine\n",
    "    avion.lbag = avion.mbag*4 / (150*np.pi*(0.7*avion.diafu)**2) #lenght of luggage compartment\n",
    "    \n",
    "    return \n",
    "\n"
   ]
  },
  {
   "cell_type": "code",
   "execution_count": null,
   "metadata": {},
   "outputs": [],
   "source": []
  }
 ],
 "metadata": {
  "kernelspec": {
   "display_name": "Python 3",
   "language": "python",
   "name": "python3"
  },
  "language_info": {
   "codemirror_mode": {
    "name": "ipython",
    "version": 3
   },
   "file_extension": ".py",
   "mimetype": "text/x-python",
   "name": "python",
   "nbconvert_exporter": "python",
   "pygments_lexer": "ipython3",
   "version": "3.8.6"
  }
 },
 "nbformat": 4,
 "nbformat_minor": 2
}
