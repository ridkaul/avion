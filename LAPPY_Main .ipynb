{
 "cells": [
  {
   "cell_type": "markdown",
   "metadata": {},
   "source": [
    "# AIRPLANE PROJECT - LAPPY"
   ]
  },
  {
   "cell_type": "markdown",
   "metadata": {},
   "source": [
    "## 1. Lappy presentation / plane's pre-design\n",
    "\n",
    "Lappy is a pre-design tool used to determine the main characteristics of a business jet meeting given specifications. These characteristics are determined through the sudy of the following points:\n",
    "\n",
    "- cabin design, making it possible to accomodate passengers, luggage and crew in good comfort conditions,\n",
    "- first estimate of aircraft weight to evaluate the necessary wing area,\n",
    "- choice of an engine with the necessary thrust for take off,\n",
    "- estimate of fuel volume to succeed in the mission,\n",
    "- positioning of airfoils, with respect to center of gravity to ensure stability and manoeuvrability during flight. "
   ]
  },
  {
   "cell_type": "markdown",
   "metadata": {},
   "source": [
    "## 2. Initialization\n",
    "\n",
    "### a. Libraries, global variables and useful functions\n",
    "\n"
   ]
  },
  {
   "cell_type": "code",
   "execution_count": null,
   "metadata": {},
   "outputs": [],
   "source": [
    "%run LAPPY_Valeurs_et_fonctions_utiles.ipynb"
   ]
  },
  {
   "cell_type": "code",
   "execution_count": null,
   "metadata": {},
   "outputs": [],
   "source": [
    "class Avion:\n",
    "    \"Definition of a business jet\"\n",
    "class Trace:\n",
    "    \"Definition of an object of type Trace\"\n",
    "    "
   ]
  },
  {
   "cell_type": "markdown",
   "metadata": {},
   "source": [
    "### b. Initialization, specifications and initial values\n",
    "\n",
    "        *** Values to be modified depending on your specifications ***"
   ]
  },
  {
   "cell_type": "code",
   "execution_count": null,
   "metadata": {
    "scrolled": false
   },
   "outputs": [],
   "source": [
    "def initialisation(avion):\n",
    "    #Specifications\n",
    "    avion.mach_obj = 0.8        #Cruise Mach\n",
    "    avion.zm_obj = 41000*0.3048 #Cruise altitude [m]\n",
    "    avion.npax_obj = 12         #Number of passenger(s)\n",
    "    avion.bfl_obj = 1500        #Desired runway takeoff length [m]\n",
    "    avion.dist_obj = 6500000    #Desired range [m]\n",
    "    \n",
    "    #Values to be initialized\n",
    "    avion.sremp = 8   #Elevators' reference area [m2]\n",
    "    avion.srd = 8     #Rudder's reference area\n",
    "        # To complete according to your dimensionning process\n",
    "    return\n",
    "    \n",
    "    "
   ]
  },
  {
   "cell_type": "markdown",
   "metadata": {},
   "source": [
    "### c. Loading of the different modellers' scripts\n",
    "\n",
    "The program is split into different modellers used to **assign input values, calculate, analyze and correct** plane's characteristics associated with:\n",
    "- cabin design, \n",
    "- geometry, \n",
    "- propulsion, \n",
    "- aerodynamics,\n",
    "- performances. "
   ]
  },
  {
   "cell_type": "code",
   "execution_count": null,
   "metadata": {},
   "outputs": [],
   "source": [
    "%run LAPPY_Modeleur_amenagement.ipynb\n",
    "%run LAPPY_Modeleur_geometrie.ipynb\n",
    "%run LAPPY_Modeleur_propulsion.ipynb\n",
    "%run LAPPY_Modeleur_aerodynamique.ipynb\n",
    "%run LAPPY_Modeleur_masse.ipynb\n",
    "%run LAPPY_Modeleur_performances.ipynb"
   ]
  },
  {
   "cell_type": "markdown",
   "metadata": {},
   "source": [
    "## 3. Calculation of a full definition\n",
    "\n",
    "### a. Initialization\n",
    "\n",
    "Creation of  \"plane\" Instance, initialized with specifications data and first variables assignments. \n",
    "\n",
    "| Variable    | Libellé / Definition                                        | Unité / Unit|\n",
    "| ----------- | ----------------------------------------------------------- | ----------- |\n",
    "|  qi         | Quantité carburant / Fuel quantity                          | kg          |\n",
    "| srd         | Surface de référence dérive / Rudder's reference area       | m2          |\n",
    "| sremp       | Surface de référence empennage / Elevators' reference area  | m2          |\n",
    "| srv         | Surface référence voilure / Wings' reference area           | m2          |\n",
    "\n",
    "\n",
    "Creation of a \"trace\" object to study the evolution of some characteristics. "
   ]
  },
  {
   "cell_type": "code",
   "execution_count": null,
   "metadata": {},
   "outputs": [],
   "source": [
    "avion=Avion()   # creation of an instance \"avion\" of class \"Avion\"\n",
    "initialisation(avion)  # initialization with specifications and chosen initial values\n",
    "\n",
    "trace=Trace()   # creation of an instance \"trace\" of class \"Trace\"\n",
    "liste_att_trace=(\"qi\",\"srd\",\"sremp\",\"srv\",\"xrv\")  # list of variables to be plotted\n",
    "\n",
    "init_trace(trace)\n"
   ]
  },
  {
   "cell_type": "markdown",
   "metadata": {},
   "source": [
    "### b. Cabin design\n",
    "\"Cabin design\" relies on some recommended values to define a few plane's attributes, among them is cabin length. ."
   ]
  },
  {
   "cell_type": "code",
   "execution_count": null,
   "metadata": {},
   "outputs": [],
   "source": [
    "# Aménagement\n",
    "affecte_entrees_amenagement(avion)\n",
    "calcul_amenagement(avion)\n",
    "\n",
    "print(\"Some plane's characteristics after cabin design\")\n",
    "HTML(code_tableau_html_H_att([avion], (\"npax_obj\", \"nbsalon\", \"lcab\")))"
   ]
  },
  {
   "cell_type": "markdown",
   "metadata": {},
   "source": [
    "### c. Geometry\n",
    "Based on recommended values, \"geometry\" study leads to design plane's wings and tail. "
   ]
  },
  {
   "cell_type": "code",
   "execution_count": null,
   "metadata": {},
   "outputs": [],
   "source": [
    "# Géométrie\n",
    "affecte_entrees_geometrie(avion)\n",
    "calcul_geometrie(avion)"
   ]
  },
  {
   "cell_type": "markdown",
   "metadata": {},
   "source": [
    "### d. Propulsion\n",
    "\"Propulsion\" completes plane's definition by engine's choice, enabling a first graphical sketch."
   ]
  },
  {
   "cell_type": "code",
   "execution_count": null,
   "metadata": {},
   "outputs": [],
   "source": [
    "affecte_entrees_propulsion(avion)\n",
    "calcul_propulsion(avion)\n",
    "vue_dessus(avion)\n",
    "vue_profil(avion)"
   ]
  },
  {
   "cell_type": "markdown",
   "metadata": {},
   "source": [
    "### e. Aerodynamics\n",
    "Calculates aerodynamics characteristics.\n"
   ]
  },
  {
   "cell_type": "code",
   "execution_count": null,
   "metadata": {},
   "outputs": [],
   "source": [
    "avion.mis_cz=0.34 # hypothèse car sera calculé grace au modeleur masse\n",
    "affecte_entrees_aerodynamique(avion)\n",
    "calcul_aerodynamique(avion)\n",
    "analyse_finesse(avion)\n",
    "calcul_foyer_aero(avion)"
   ]
  },
  {
   "cell_type": "markdown",
   "metadata": {},
   "source": [
    "### f. Weight\n",
    "Calculates weight and center of gravity position. "
   ]
  },
  {
   "cell_type": "code",
   "execution_count": null,
   "metadata": {},
   "outputs": [],
   "source": [
    "affecte_entrees_masse(avion)\n",
    "calcul_masses(avion)"
   ]
  },
  {
   "cell_type": "markdown",
   "metadata": {},
   "source": [
    "### g. Performance\n",
    "Evaluates plane's performances (runway length for takeoff and range).\n"
   ]
  },
  {
   "cell_type": "code",
   "execution_count": null,
   "metadata": {},
   "outputs": [],
   "source": [
    "affecte_entrees_performances(avion)\n",
    "print(analyse_performances_gv(avion))\n",
    "print(analyse_performances_bv(avion))"
   ]
  },
  {
   "cell_type": "markdown",
   "metadata": {
    "collapsed": true
   },
   "source": [
    "## 4. First definition correction\n",
    "\n",
    "It is up to you to define analysis and correction functions to achieve a first correction step. Do not forget to call, in your correction functions **inc_trace(avion,trace)**, so that attributes values evolution be stored."
   ]
  },
  {
   "cell_type": "code",
   "execution_count": null,
   "metadata": {},
   "outputs": [],
   "source": []
  },
  {
   "cell_type": "markdown",
   "metadata": {},
   "source": [
    "#### Plane's characteristics after the first corrections and parameters evolution\n",
    "\n",
    "Here can be displayed plane's main definition parameters current definition and their evolution after corrections. "
   ]
  },
  {
   "cell_type": "code",
   "execution_count": null,
   "metadata": {},
   "outputs": [],
   "source": [
    "HTML(code_tableau_html_H_att([avion], (\"srv\", \"srd\", \"sremp\", \"xrv\",\"qi\",\"mtow\")))\n",
    "courbe_iteration (trace, trace.srv, \"Surf. ref voilure\", \"r\")\n",
    "courbe_iteration (trace, trace.qi, \"quantité carburant\", \"b\")\n",
    "courbe_iteration (trace, trace.xrv, \"position voilure\", \"g\")\n",
    "courbe_iteration (trace, trace.srd, \"surface dérive\", \"y\")\n",
    "courbe_iteration (trace, trace.sremp, \"surface empenage\", \"k\")"
   ]
  },
  {
   "cell_type": "markdown",
   "metadata": {
    "collapsed": true
   },
   "source": [
    "## 5. Design process definition\n",
    "\n",
    "You have to define a process in the  form of a diagram. You can use an online application to create the diagram. For example https://mermaidjs.github.io/mermaid-live-editor/ that starts from the following code:\n",
    "\n"
   ]
  },
  {
   "cell_type": "markdown",
   "metadata": {},
   "source": [
    "```\n",
    "graph TD\n",
    "A[Etape 1] -->B[Etape2]\n",
    "B --> C{test}\n",
    "C -->|OK| D[Etape3]\n",
    "C -->|KO| A\n",
    "\n",
    "D --> E{test}\n",
    "E -->|OK| F[Etape4]\n",
    "E -->|KO| A\n",
    "\n",
    "F --> G{test}\n",
    "G -->|OK| H[Etape4]\n",
    "G -->|KO| A\n",
    "\n",
    "D --> I{test}\n",
    "E -->|OK| F[Etape4]\n",
    "E -->|KO| A\n",
    "\n",
    "D --> E{test}\n",
    "E -->|OK| F[Etape4]\n",
    "E -->|KO| A\n",
    "```"
   ]
  },
  {
   "cell_type": "markdown",
   "metadata": {},
   "source": [
    "to make the following graph::\n",
    "\n",
    "![organigramme](Images/organigramme.JPG)\n",
    "\n",
    "Then you have to code the process, defining functions for each step according to the following pattern:"
   ]
  },
  {
   "cell_type": "code",
   "execution_count": null,
   "metadata": {},
   "outputs": [],
   "source": [
    "def etape1(avion, trace):\n",
    "    # code to be run\n",
    "    # ....\n",
    "    \n",
    "    #Next step\n",
    "    etape2(avion, trace)\n",
    "\n",
    "    \n",
    "def etape2(avion, trace):\n",
    "    # code to be run\n",
    "    # ....\n",
    "    \n",
    "    if <test KO>:\n",
    "        # correction's code to be run\n",
    "        # ....\n",
    "        #Next step\n",
    "        etape1(avion, trace)\n",
    "    else:\n",
    "        #Next step\n",
    "        etape3(avion, trace)"
   ]
  },
  {
   "cell_type": "markdown",
   "metadata": {},
   "source": [
    "# 6. Running design process\n",
    "\n",
    "Now it is up to you to run the run process and display the results.\n",
    "There is little chance that it works at first: dimensioning process is iterative and must converge."
   ]
  },
  {
   "cell_type": "code",
   "execution_count": null,
   "metadata": {},
   "outputs": [],
   "source": [
    "init_trace(trace)\n",
    "etape1(avion, trace)\n",
    "HTML(code_tableau_html_H_att([avion], (\"srv\", \"srd\", \"sremp\", \"xrv\",\"qi\",\"mtow\")))\n",
    "courbe_iteration (trace, trace.srv, \"Surf. ref voilure\", \"r\")\n",
    "courbe_iteration (trace, trace.qi, \"quantité carburant\", \"b\")\n",
    "courbe_iteration (trace, trace.xrv, \"position voilure\", \"g\")\n",
    "courbe_iteration (trace, trace.srd, \"surface dérive\", \"y\")\n",
    "courbe_iteration (trace, trace.sremp, \"surface empenage\", \"k\")"
   ]
  },
  {
   "cell_type": "code",
   "execution_count": null,
   "metadata": {},
   "outputs": [],
   "source": [
    "courbe_iteration (trace, trace.srv, \"Surf. ref voilure\", \"r\")\n",
    "courbe_iteration (trace, trace.qi, \"quantité carburant\", \"b\")\n",
    "courbe_iteration (trace, trace.xrv, \"position voilure\", \"g\")\n",
    "courbe_iteration (trace, trace.srd, \"surface dérive\", \"y\")\n",
    "courbe_iteration (trace, trace.sremp, \"surface empenage\", \"k\")"
   ]
  },
  {
   "cell_type": "code",
   "execution_count": null,
   "metadata": {},
   "outputs": [],
   "source": []
  }
 ],
 "metadata": {
  "kernelspec": {
   "display_name": "Python 3",
   "language": "python",
   "name": "python3"
  },
  "language_info": {
   "codemirror_mode": {
    "name": "ipython",
    "version": 3
   },
   "file_extension": ".py",
   "mimetype": "text/x-python",
   "name": "python",
   "nbconvert_exporter": "python",
   "pygments_lexer": "ipython3",
   "version": "3.8.6"
  }
 },
 "nbformat": 4,
 "nbformat_minor": 1
}
