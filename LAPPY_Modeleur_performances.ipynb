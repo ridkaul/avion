{
 "cells": [
  {
   "cell_type": "markdown",
   "metadata": {
    "collapsed": true
   },
   "source": [
    "## LAPPY_Modeleur_performance.ipynb\n",
    "\n",
    "This modeller provides functions to:\n",
    "* assign input data, chosen by \"performance\" expert: \n",
    "    * **affecte_entrees_performances(avion)**\n",
    "\n",
    "            ***You have to check that all the values come from the provided documentation***. \n",
    "\n",
    "* analyze performances : \n",
    "    * at high speed: **analyse_performances_gv(avion)**\n",
    "\n",
    "            ***You have to complete this function basing your work on the provided documentation***.\n",
    "\n",
    "    * during takeoff: **analyse_performances_bv(avion)**\n",
    "\n",
    "            ***You have to complete this function basing your work on the provided documentation***.\n"
   ]
  },
  {
   "cell_type": "code",
   "execution_count": 2,
   "metadata": {
    "collapsed": true
   },
   "outputs": [],
   "source": [
    "def affecte_entrees_performances(avion):\n",
    "    avion.bfl_rho = 1.2  #Masse volumique air décollage [kg/m^3]\n",
    "    avion.bfl_k = 3.35   #Coefficient décollage \n",
    "    avion.bfl_mtaxi = 80 #Masse carburant taxiage [kg]\n",
    "    avion.mis_ps = 17874.0 #Pression statique croisière [Pa]\n",
    "    avion.mis_vson = 295.1 #Vitesse du son croisière [m/s]\n",
    "    return "
   ]
  },
  {
   "cell_type": "markdown",
   "metadata": {},
   "source": [
    "### Analyse de la capacité de l'avion à decoller sur la longueur de piste voulue"
   ]
  },
  {
   "cell_type": "code",
   "execution_count": 3,
   "metadata": {
    "collapsed": true
   },
   "outputs": [],
   "source": [
    "def analyse_performances_bv(avion):\n",
    "    #A compléter\n",
    "    return     #A compléter\n"
   ]
  },
  {
   "cell_type": "markdown",
   "metadata": {},
   "source": [
    "### Analyse de la capacité de l'avion à assurer le rayon d'action avec la quantité de carburant embarqué"
   ]
  },
  {
   "cell_type": "code",
   "execution_count": 4,
   "metadata": {
    "collapsed": true
   },
   "outputs": [],
   "source": [
    "def analyse_performances_gv(avion):\n",
    "    #A compléter\n",
    "    return     #A compléter"
   ]
  }
 ],
 "metadata": {
  "kernelspec": {
   "display_name": "Python 3",
   "language": "python",
   "name": "python3"
  },
  "language_info": {
   "codemirror_mode": {
    "name": "ipython",
    "version": 3
   },
   "file_extension": ".py",
   "mimetype": "text/x-python",
   "name": "python",
   "nbconvert_exporter": "python",
   "pygments_lexer": "ipython3",
   "version": "3.6.3"
  }
 },
 "nbformat": 4,
 "nbformat_minor": 2
}
