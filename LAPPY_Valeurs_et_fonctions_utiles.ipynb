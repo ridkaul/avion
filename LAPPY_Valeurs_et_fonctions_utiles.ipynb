{
 "cells": [
  {
   "cell_type": "markdown",
   "metadata": {},
   "source": [
    "\n",
    "# AIRPLANE PROJECT - LAPPY\n",
    "## LAPPY_Valeurs_et_fonctions_utiles.ipynb\n",
    "\n",
    "Nothing to complete in this file.\n",
    "\n",
    "When application is run, this script is called to:\n",
    "\n",
    "* import numpy, matplot, csv, pickle libraries and some math functions: pylab, IPython.display\n",
    "\n",
    "* define some numerical values: pi value... \n",
    "\n",
    "* define functions to:\n",
    "\n",
    "    monitor parameters evolution \n",
    "    * init_trace(trace)\n",
    "    * inc_trace(avion,trace)\n",
    "    * courbe_iteration (trace, att, label, couleur)\n",
    "\n",
    "    generate html code to display plane's characteristics in the form of charts. It is possible to display plane's list in line or column and display all the characteristics or only a list of attributes:\n",
    "    * code_tableau_html_H (liste_objets)\n",
    "    * code_tableau_html_H_att (liste_objets , liste_attributs)\n",
    "    * code_tableau_html_V (liste_objets)\n",
    "    * code_tableau_html_V_att (liste_objets, liste_attributs)\n",
    "\n",
    "    generate html code to display engines characteristics:\n",
    "\n",
    "    - code_table_moteur (nom_mot, poids, poussee, csmax, poussee_max, dia_fan)\n",
    "\n",
    "    draw a simplified sketch of plane's geometry:\n",
    "    * vue_dessus(self) \n",
    "    * vue_profil(avion)\n",
    "\n",
    "    save and restore plane's definition using .csv files:\n",
    "    * import_avion_csv (avion,nom_fichier)\n",
    "    * export_avion_csv (avion, nom_fichier)\n",
    "\n",
    "    it is also possible to save and restore an object in binary files with the commands:\n",
    "    * pickle.dump(avion, open('avion.bin', 'wb'))  # to make a backup\n",
    "    * avion=pickle.load(open('avion.bin', 'rb'))   # to creat a plane from file avion.bin\n"
   ]
  },
  {
   "cell_type": "code",
   "execution_count": 1,
   "metadata": {
    "collapsed": true
   },
   "outputs": [],
   "source": [
    "pi=3.14\n",
    "deci=2    #nombre de décimales souhaitées pour converger\n",
    "import numpy as np\n",
    "import matplotlib.pyplot as plt\n",
    "from pylab import axis\n",
    "from math import *\n",
    "import pickle"
   ]
  },
  {
   "cell_type": "markdown",
   "metadata": {},
   "source": [
    "### Fonction pour enregistrer la trace des évolutions d'attributs de l'avion\n",
    "Il suffit de mettre dans la variable liste_att_trace, les variables à \"tracer\". Par exemple :\n",
    "liste_att_trace=(\"qi\",\"srd\",\"sremp\",\"srv\") \n",
    "La fonction init permet d'initialiser la trace\n",
    "la fonction inc_trace doit être appelé à chaque évolution des paramètres."
   ]
  },
  {
   "cell_type": "code",
   "execution_count": 2,
   "metadata": {
    "collapsed": true
   },
   "outputs": [],
   "source": [
    "def init_trace(trace):\n",
    "    trace.iteration=1\n",
    "    for attr_name in liste_att_trace:           # initilise trace.qi ... avec les valeurs de avion.qi...\n",
    "        setattr(trace, attr_name, np.array([getattr(avion,attr_name)]))\n",
    "        \n",
    "\n",
    "def inc_trace(avion,trace):\n",
    "    for attr_name in liste_att_trace: \n",
    "        ancienne_trace = getattr(trace,attr_name)\n",
    "        a_ajouter = np.array([getattr(avion,attr_name)])\n",
    "        nouvelle_trace = np.concatenate((ancienne_trace, a_ajouter))\n",
    "        setattr(trace, attr_name,nouvelle_trace)\n",
    "    trace.iteration=trace.iteration + 1\n",
    "    return"
   ]
  },
  {
   "cell_type": "markdown",
   "metadata": {},
   "source": [
    "## Tracé des évolutions d'attributs de la trace"
   ]
  },
  {
   "cell_type": "code",
   "execution_count": 3,
   "metadata": {
    "collapsed": true
   },
   "outputs": [],
   "source": [
    "def courbe_iteration (trace, att, label, couleur):\n",
    "    N=np.arange(1,trace.iteration+1,1 )\n",
    "    plt.plot(N, att,couleur, label=label)\n",
    "    plt.legend()\n",
    "    plt.show()\n"
   ]
  },
  {
   "cell_type": "markdown",
   "metadata": {},
   "source": [
    "## Affichage des résultats sous forme de tableau (html)\n",
    "Ci-dessous, sont définies deux fonctions permettant d'afficher les valeurs des attributs d'une liste d'objet de même type.\n",
    "La liste des attributs d'un objet est obtenue par la méthode .__dict__.keys() appliqué au premier objet de la liste.\n",
    "Pour chaque objet de la liste les valeurs des attributs sont fournis par la méthode .__dict__.values().\n",
    "Les fonctions construise, dans la variable C, une chaine de caractère correspondant à la définition en html d'un tableau.\n",
    "* code_tableau_html_H réalise un tableau avec les attributs en colonnes\n",
    "* code_tableau_html_V réalise un tableau avec les attributs en colonnes\n",
    "* des variantes de ces fonctions n'affichent que les attributs d'une liste."
   ]
  },
  {
   "cell_type": "code",
   "execution_count": 4,
   "metadata": {
    "collapsed": true
   },
   "outputs": [],
   "source": [
    "from IPython.display import HTML, display\n",
    "\n",
    "def code_tableau_html_H (liste_objets):\n",
    "    A=list(liste_objets[0].__dict__.keys())\n",
    "    C=\"<table>\"+\"<tr>\"\n",
    "    i=0\n",
    "    while i<len(A):\n",
    "        C=C+\"<td>\"+A[i]+\"</td>\"\n",
    "        i=i+1\n",
    "    C=C+\"</tr>\"\n",
    "    j=0\n",
    "    while j<len(liste_objets):\n",
    "        C=C+\"<tr>\"\n",
    "        i=0\n",
    "        D=list(liste_objets[j].__dict__.values())\n",
    "        while i<len(A):\n",
    "            C=C+\"<td>\"+str(round (D[i] , 2))+\"</td>\"\n",
    "            i=i+1\n",
    "        C=C+\"</tr>\"\n",
    "        j=j+1\n",
    "    C=C+\"</table>\"\n",
    "    return C"
   ]
  },
  {
   "cell_type": "code",
   "execution_count": 5,
   "metadata": {
    "collapsed": true
   },
   "outputs": [],
   "source": [
    "def code_tableau_html_H_att (liste_objets , liste_attributs):\n",
    "    A=list(liste_objets[0].__dict__.keys())\n",
    "    C=\"<table>\"+\"<tr>\"\n",
    "    i=0\n",
    "    while i<len(A):\n",
    "        if A[i] in liste_attributs:\n",
    "            C=C+\"<td>\"+A[i]+\"</td>\"\n",
    "        i=i+1\n",
    "    C=C+\"</tr>\"\n",
    "    j=0\n",
    "    while j<len(liste_objets):\n",
    "        C=C+\"<tr>\"\n",
    "        i=0\n",
    "        D=list(liste_objets[j].__dict__.values())\n",
    "        while i<len(A):\n",
    "            if A[i] in liste_attributs:\n",
    "                C=C+\"<td>\"+str(round (D[i] , 2))+\"</td>\"\n",
    "            i=i+1\n",
    "        C=C+\"</tr>\"\n",
    "        j=j+1\n",
    "    C=C+\"</table>\"\n",
    "    return C"
   ]
  },
  {
   "cell_type": "code",
   "execution_count": 6,
   "metadata": {
    "collapsed": true
   },
   "outputs": [],
   "source": [
    "def code_tableau_html_V (liste_objets):\n",
    "    A=list(liste_objets[0].__dict__.keys())\n",
    "    C=\"<table>\"+\"<tr> <td> objet \"\n",
    "    i=0\n",
    "    while i<len(liste_objets):\n",
    "        i=i+1\n",
    "        C=C+\"<td>\"+str(i)+\"</td>\"    \n",
    "    C=C+\"</tr>\"\n",
    "    j=0\n",
    "    while j<len(A):\n",
    "        C=C+\"<tr> <td>\"+str(A[j])\n",
    "        i=0\n",
    "        while i<len(liste_objets):\n",
    "            D=list(liste_objets[i].__dict__.values())\n",
    "            C=C+\"<td>\"+str(round(D[j], 2))+\"</td>\"\n",
    "            i=i+1\n",
    "        C=C+\"</tr>\"\n",
    "        j=j+1\n",
    "    C=C+\"</table>\"\n",
    "    return C"
   ]
  },
  {
   "cell_type": "code",
   "execution_count": 7,
   "metadata": {
    "collapsed": true
   },
   "outputs": [],
   "source": [
    "def code_tableau_html_V_att (liste_objets, liste_attributs):\n",
    "    A=list(liste_objets[0].__dict__.keys())\n",
    "    C=\"<table>\"+\"<tr> <td> objet \"\n",
    "    i=0\n",
    "    while i<len(liste_objets):\n",
    "        i=i+1\n",
    "        C=C+\"<td>\"+str(i)+\"</td>\"    \n",
    "    C=C+\"</tr>\"\n",
    "    j=0\n",
    "    while j<len(A):\n",
    "        if A[j] in liste_attributs:\n",
    "            C=C+\"<tr> <td>\"+str(A[j])\n",
    "            i=0\n",
    "            while i<len(liste_objets):\n",
    "                D=list(liste_objets[i].__dict__.values())\n",
    "                C=C+\"<td>\"+str(round(D[j], 2))+\"</td>\"\n",
    "                i=i+1\n",
    "            C=C+\"</tr>\"\n",
    "        j=j+1\n",
    "    C=C+\"</table>\"\n",
    "    return C"
   ]
  },
  {
   "cell_type": "code",
   "execution_count": 8,
   "metadata": {
    "collapsed": true
   },
   "outputs": [],
   "source": [
    "def code_table_moteur (nom_mot, poids, poussee, csmax, poussee_max, dia_fan):\n",
    "    A=[\"Poids [kg]\",\"Poussee Take-Off [N]\",\"Cs max croisière [kg/daN/hr]\", \n",
    "           \"Poussée Max croisière [N]\",\"Diamètre du fan [m]\" ]\n",
    "    C=\"<table>\"+\"<tr> <td> moteur \"\n",
    "    i=0\n",
    "    while i<len(A):\n",
    "        C=C+\"<td>\"+A[i]+\"</td>\" \n",
    "        i=i+1\n",
    "    C=C+\"</tr>\"\n",
    "    j=0\n",
    "    while j<len(nom_mot):\n",
    "        C=C+\"<td>\"+str(nom_mot[j])\n",
    "        C=C+\"<td>\"+str(poids[j])\n",
    "        C=C+\"<td>\"+str(poussee[j])\n",
    "        C=C+\"<td>\"+str(csmax[j])\n",
    "        C=C+\"<td>\"+str(poussee_max[j])\n",
    "        C=C+\"<td>\"+str(dia_fan[j])\n",
    "        C=C+\"</tr>\"\n",
    "        j=j+1\n",
    "    C=C+\"</table>\"\n",
    "    return C"
   ]
  },
  {
   "cell_type": "markdown",
   "metadata": {},
   "source": [
    "## Tracé simplifié de l'avion \n",
    "Deux fonctions permettant de rélaiser une représentation géométrique simplifiée de l'avion\n",
    "* vue_dessus(avion)\n",
    "* vue_profil(avion)\n"
   ]
  },
  {
   "cell_type": "code",
   "execution_count": 9,
   "metadata": {
    "collapsed": true
   },
   "outputs": [],
   "source": [
    "def vue_dessus(self):\n",
    "    plt.hold = True\n",
    "\n",
    "    #dessin de la flêche avant\n",
    "    plt.plot([0,self.lpteavt],[0, self.diafu/2],'black')\n",
    "    plt.plot([0,self.lpteavt],[0, -self.diafu/2],'black')\n",
    "    plt.plot([self.lpteavt, self.lpteavt],[self.diafu/2, -self.diafu/2],'black')\n",
    "\n",
    "    #dessin du fuselage\n",
    "    plt.plot([self.lpteavt,self.lfu-self.lptearr],[self.diafu/2, self.diafu/2],'black')\n",
    "    plt.plot([self.lpteavt,self.lfu-self.lptearr],[-self.diafu/2, -self.diafu/2],'black')\n",
    "\n",
    "    #dessin de la flêche arriere\n",
    "    plt.plot([self.lfu, self.lfu-self.lptearr],[self.diafinfu/2, self.diafu/2],'black')\n",
    "    plt.plot([self.lfu, self.lfu-self.lptearr],[-self.diafinfu/2, -self.diafu/2],'black')\n",
    "    plt.plot([self.lfu-self.lptearr, self.lfu-self.lptearr],[self.diafu/2, -self.diafu/2],'black')\n",
    "    plt.plot([self.lfu, self.lfu],[self.diafinfu/2, -self.diafinfu/2],'black')\n",
    "\n",
    "    #dessin de la voilure\n",
    "    plt.plot([self.xrv,self.xrv+self.bxv*tan(radians(self.fbarv))],[self.diafu/2,self.diafu/2+self.bxv],'black')\n",
    "    plt.plot([self.xrv+self.crv,self.xrv+self.crv+self.bxv*tan(radians(self.fbfrv))],[self.diafu/2,self.diafu/2+self.bxv],'black')\n",
    "    plt.plot([self.xrv+self.bxv*tan(radians(self.fbarv)),self.xrv+self.crv+self.bxv*tan(radians(self.fbfrv))],[self.diafu/2+self.bxv,self.diafu/2+self.bxv],'black')\n",
    "\n",
    "    plt.plot([self.xrv,self.xrv+self.bxv*tan(radians(self.fbarv))],[-(self.diafu/2),-(self.diafu/2+self.bxv)],'black')\n",
    "    plt.plot([self.xrv+self.crv,self.xrv+self.crv+self.bxv*tan(radians(self.fbfrv))],[-(self.diafu/2),-(self.diafu/2+self.bxv)],'black')\n",
    "    plt.plot([self.xrv+self.bxv*tan(radians(self.fbarv)),self.xrv+self.crv+self.bxv*tan(radians(self.fbfrv))],[-(self.diafu/2+self.bxv),-(self.diafu/2+self.bxv)],'black')\n",
    "\n",
    "    #dessin de l'empenage\n",
    "    plt.plot([self.xremp,self.xremp+self.cremp],[0,0],'black')\n",
    "    \n",
    "    plt.plot([self.xremp, self.xremp+tan(radians(self.fbaemp))*self.bremp],[0,self.bremp],'black')\n",
    "    plt.plot([self.xremp+self.cremp,self.xremp+self.cremp+tan(radians(self.fbfemp))*self.bremp],[0,self.bremp],'black')\n",
    "    plt.plot([self.xremp+tan(radians(self.fbaemp))*self.bremp,self.xremp+tan(radians(self.fbaemp))*self.bremp+self.ceemp],[self.bremp,self.bremp],'black')\n",
    "    \n",
    "    plt.plot([self.xremp, self.xremp+tan(radians(self.fbaemp))*self.bremp],[0,-self.bremp],'black')\n",
    "    plt.plot([self.xremp+self.cremp,self.xremp+self.cremp+tan(radians(self.fbfemp))*self.bremp],[0,-self.bremp],'black')\n",
    "    plt.plot([self.xremp+tan(radians(self.fbaemp))*self.bremp,self.xremp+tan(radians(self.fbaemp))*self.bremp+self.ceemp],[-self.bremp,-self.bremp],'black')\n",
    "    \n",
    "    #dessin des moteurs\n",
    "    plt.plot([self.xrnac,self.xrnac+self.lnac],[self.diafu/2,self.diafu/2],'black')\n",
    "    plt.plot([self.xrnac,self.xrnac+self.lnac],[self.diafu/2+self.diafanmo,self.diafu/2+self.diafanmo],'black')\n",
    "    plt.plot([self.xrnac,self.xrnac],[self.diafu/2,self.diafu/2+self.diafanmo],'black')\n",
    "    plt.plot([self.xrnac+self.lnac,self.xrnac+self.lnac],[self.diafu/2,self.diafu/2+self.diafanmo],'black')\n",
    "\n",
    "    plt.plot([self.xrnac,self.xrnac+self.lnac],[-self.diafu/2,-self.diafu/2],'black')\n",
    "    plt.plot([self.xrnac,self.xrnac+self.lnac],[-self.diafu/2-self.diafanmo,-self.diafu/2-self.diafanmo],'black')\n",
    "    plt.plot([self.xrnac,self.xrnac],[-self.diafu/2,-self.diafu/2-self.diafanmo],'black')\n",
    "    plt.plot([self.xrnac+self.lnac,self.xrnac+self.lnac],[-self.diafu/2,-self.diafu/2-self.diafanmo],'black')\n",
    "\n",
    "    #traçage\n",
    "    axis('equal')\n",
    "    plt.show()\n",
    "    return"
   ]
  },
  {
   "cell_type": "code",
   "execution_count": 10,
   "metadata": {
    "collapsed": true
   },
   "outputs": [],
   "source": [
    "def vue_profil(self):\n",
    "    plt.hold = True\n",
    "\n",
    "    #dessin de la pointe avant\n",
    "    plt.plot([0,self.lpteavt],[self.diafu/2,self.diafu],'k')\n",
    "    plt.plot([0,self.lpteavt],[self.diafu/2,0],'k')\n",
    "    plt.plot([self.lpteavt,self.lpteavt],[0,self.diafu],'k')\n",
    "    \n",
    "    #dessin du tronc central\n",
    "    L_cyl=self.lpeq+self.lwcavt+self.lcab+self.lwcarr+self.lbag\n",
    "    plt.plot([self.lpteavt,self.lpteavt+L_cyl],[0,0],'k')\n",
    "    plt.plot([self.lpteavt,self.lpteavt+L_cyl],[self.diafu,self.diafu],'k')\n",
    "    plt.plot([self.lpteavt+L_cyl,self.lpteavt+L_cyl],[0,self.diafu],'k')\n",
    "    \n",
    "    #dessin pointe arriere\n",
    "    angle_ptearr_bas=20    #exprimé en degrés\n",
    "    plt.plot([self.lpteavt+L_cyl,self.lpteavt+L_cyl+self.lptearr],[0,tan(radians(angle_ptearr_bas))*self.lptearr],'k')\n",
    "    plt.plot([self.lpteavt+L_cyl+self.lptearr,self.lpteavt+L_cyl+self.lptearr],[tan(radians(angle_ptearr_bas))*self.lptearr,tan(radians(angle_ptearr_bas))*self.lptearr+self.diafinfu],'k')\n",
    "    plt.plot([self.lpteavt+L_cyl,self.lpteavt+L_cyl+self.lptearr],[self.diafu,tan(radians(angle_ptearr_bas))*self.lptearr+self.diafinfu],'k')\n",
    "    \n",
    "    #dessin moteur\n",
    "    plt.plot([self.xrnac,self.xrnac+self.lnac],[self.yrmo+self.diafanmo/2,self.yrmo+self.diafanmo/2],'k')\n",
    "    plt.plot([self.xrnac,self.xrnac+self.lnac],[self.yrmo-self.diafanmo/2,self.yrmo-self.diafanmo/2],'k')\n",
    "    plt.plot([self.xrnac,self.xrnac],[self.yrmo-self.diafanmo/2,self.yrmo+self.diafanmo/2],'k')\n",
    "    plt.plot([self.xrnac+self.lnac,self.xrnac+self.lnac],[self.yrmo-self.diafanmo/2,self.yrmo+self.diafanmo/2],'k')\n",
    "    \n",
    "    #dessin voilure\n",
    "    plt.plot([self.xrv,self.xrv+self.cbv],[0.25*self.diafu,0.25*self.diafu],'k')\n",
    "\n",
    "    \n",
    "    #dessin dérive\n",
    "    plt.plot([self.xrd,self.xrd+tan(radians(self.fbad))*self.brd],[self.diafu,self.diafu+self.brd],'k')\n",
    "    plt.plot([self.xrd+tan(radians(self.fbad))*self.brd,self.xrd+tan(radians(self.fbad))*self.brd+self.ced],[self.diafu+self.brd,self.diafu+self.brd],'k')\n",
    "    plt.plot([self.xrd+tan(radians(self.fbad))*self.brd+self.ced,self.xrd+tan(radians(self.fbad))*self.brd+self.ced-tan(radians(self.fbfd))*self.brd],[self.diafu+self.brd,self.diafu],'k')\n",
    "    \n",
    "    #dessin stabilisateur\n",
    "    plt.plot([self.xrd+tan(radians(self.fbad))*0.25*self.brd+0.18*self.c25d,self.xrd+tan(radians(self.fbad))*0.25*self.brd+0.18*self.c25d+self.cremp],[self.diafu+0.25*self.brd,self.diafu+0.25*self.brd],'k')\n",
    "    \n",
    "    axis('equal')\n",
    "    plt.show()\n",
    "    return"
   ]
  },
  {
   "cell_type": "markdown",
   "metadata": {},
   "source": [
    "## Importer et Exporter les caractéristiques de l'avion en .csv"
   ]
  },
  {
   "cell_type": "code",
   "execution_count": 11,
   "metadata": {
    "collapsed": true
   },
   "outputs": [],
   "source": [
    "import csv\n",
    "def import_avion_csv (avion,nom_fichier):\n",
    "    file=open(nom_fichier,\"r\")\n",
    "    cr=csv.DictReader(file)\n",
    "    for row in cr:\n",
    "        liste_att_valeur=row\n",
    "    file.close()\n",
    "    for attr_name, attr_value in liste_att_valeur.items():\n",
    "        setattr(avion, attr_name, float(attr_value))\n",
    "\n",
    "\n",
    "def export_avion_csv (avion, nom_fichier):\n",
    "    A=list(avion.__dict__.keys())\n",
    "    B=list(avion.__dict__.values())\n",
    "    with open(nom_fichier, 'w', newline='') as f:\n",
    "        writer = csv.writer(f)\n",
    "        writer.writerow(A)\n",
    "        writer.writerow(B)"
   ]
  }
 ],
 "metadata": {
  "kernelspec": {
   "display_name": "Python 3",
   "language": "python",
   "name": "python3"
  },
  "language_info": {
   "codemirror_mode": {
    "name": "ipython",
    "version": 3
   },
   "file_extension": ".py",
   "mimetype": "text/x-python",
   "name": "python",
   "nbconvert_exporter": "python",
   "pygments_lexer": "ipython3",
   "version": "3.6.3"
  }
 },
 "nbformat": 4,
 "nbformat_minor": 2
}
